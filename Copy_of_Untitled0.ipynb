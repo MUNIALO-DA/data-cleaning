{
  "nbformat": 4,
  "nbformat_minor": 0,
  "metadata": {
    "colab": {
      "provenance": [],
      "authorship_tag": "ABX9TyPHkxOe463VuvmfSekEgrY/",
      "include_colab_link": true
    },
    "kernelspec": {
      "name": "python3",
      "display_name": "Python 3"
    },
    "language_info": {
      "name": "python"
    }
  },
  "cells": [
    {
      "cell_type": "markdown",
      "metadata": {
        "id": "view-in-github",
        "colab_type": "text"
      },
      "source": [
        "<a href=\"https://colab.research.google.com/github/MUNIALO-DA/data-cleaning/blob/main/Copy_of_Untitled0.ipynb\" target=\"_parent\"><img src=\"https://colab.research.google.com/assets/colab-badge.svg\" alt=\"Open In Colab\"/></a>"
      ]
    },
    {
      "cell_type": "code",
      "execution_count": null,
      "metadata": {
        "id": "3Xpcq8DCSPKk"
      },
      "outputs": [],
      "source": [
        "tu"
      ]
    },
    {
      "cell_type": "markdown",
      "source": [
        "2+2\n"
      ],
      "metadata": {
        "id": "ATGNepY9TeQV"
      }
    },
    {
      "cell_type": "markdown",
      "source": [],
      "metadata": {
        "id": "38gB9IxZURpd"
      }
    },
    {
      "cell_type": "code",
      "source": [
        "2*2"
      ],
      "metadata": {
        "colab": {
          "base_uri": "https://localhost:8080/"
        },
        "id": "0JntEnR4Tnm4",
        "outputId": "3830b294-ba03-4aa6-937e-b4c0c17a2068"
      },
      "execution_count": null,
      "outputs": [
        {
          "output_type": "execute_result",
          "data": {
            "text/plain": [
              "4"
            ]
          },
          "metadata": {},
          "execution_count": 2
        }
      ]
    },
    {
      "cell_type": "code",
      "source": [
        "print(2+2)\n",
        "print(3*3)"
      ],
      "metadata": {
        "colab": {
          "base_uri": "https://localhost:8080/"
        },
        "id": "l61XnUD_U8XU",
        "outputId": "6ab3f62c-14ef-4eab-b789-6f4e297d2550"
      },
      "execution_count": null,
      "outputs": [
        {
          "output_type": "stream",
          "name": "stdout",
          "text": [
            "4\n",
            "9\n"
          ]
        }
      ]
    },
    {
      "cell_type": "code",
      "source": [
        "salary = 100000"
      ],
      "metadata": {
        "id": "rAYOaUcdYPrs"
      },
      "execution_count": null,
      "outputs": []
    },
    {
      "cell_type": "code",
      "source": [
        "base_salary = 100000\n",
        "bonus_rate = .10"
      ],
      "metadata": {
        "id": "2_6aQlVNeDQ9"
      },
      "execution_count": null,
      "outputs": []
    },
    {
      "cell_type": "code",
      "source": [
        "total_salary = (base_salary) * (1+ bonus_rate)"
      ],
      "metadata": {
        "id": "9_cjigTDeT4c"
      },
      "execution_count": null,
      "outputs": []
    },
    {
      "cell_type": "code",
      "source": [
        "total_salary"
      ],
      "metadata": {
        "colab": {
          "base_uri": "https://localhost:8080/"
        },
        "id": "bRWbaGhtezyD",
        "outputId": "ab2494e2-f7e0-49e3-b315-81f8306a6945"
      },
      "execution_count": null,
      "outputs": [
        {
          "output_type": "execute_result",
          "data": {
            "text/plain": [
              "110000.00000000001"
            ]
          },
          "metadata": {},
          "execution_count": 22
        }
      ]
    },
    {
      "cell_type": "code",
      "source": [
        " lukes_salary = 100000"
      ],
      "metadata": {
        "id": "824zJ7gAe9wi"
      },
      "execution_count": null,
      "outputs": []
    },
    {
      "cell_type": "code",
      "source": [
        "company_name = 'datawiz inc'"
      ],
      "metadata": {
        "id": "tb5uejVofF9C"
      },
      "execution_count": null,
      "outputs": []
    },
    {
      "cell_type": "code",
      "source": [
        "job_wfh = True"
      ],
      "metadata": {
        "id": "xvATMAB0hjXH"
      },
      "execution_count": null,
      "outputs": []
    },
    {
      "cell_type": "code",
      "source": [
        "job_id = 101\n",
        "job_title = 'data analyst'\n",
        "job_salary = 125000"
      ],
      "metadata": {
        "id": "YcP0UaZGhxMm"
      },
      "execution_count": null,
      "outputs": []
    },
    {
      "cell_type": "code",
      "source": [
        "print(\"data job description\")\n",
        "print(\"++++++++++\")\n",
        "print(\"job id\")\n",
        "print(\"company name:    \", company_name)\n",
        "print(\"job title:   \", job_title)\n",
        "print(\"salary:   \", job_salary)\n",
        "print(\"wfh:    \", job_wfh)"
      ],
      "metadata": {
        "colab": {
          "base_uri": "https://localhost:8080/"
        },
        "id": "m4Y409NSijeF",
        "outputId": "a7e985ce-04ba-4708-aa2a-a117bc485e3d"
      },
      "execution_count": null,
      "outputs": [
        {
          "output_type": "stream",
          "name": "stdout",
          "text": [
            "data job description\n",
            "++++++++++\n",
            "job id\n",
            "company name:     datawiz inc\n",
            "job title:    data analyst\n",
            "salary:    125000\n",
            "wfh:     True\n"
          ]
        }
      ]
    },
    {
      "cell_type": "code",
      "source": [
        "\"python\".lower()"
      ],
      "metadata": {
        "id": "AZ0oTFNyksBS",
        "colab": {
          "base_uri": "https://localhost:8080/",
          "height": 35
        },
        "outputId": "2b95fdd1-5642-45e1-dff6-34c037fac2da"
      },
      "execution_count": null,
      "outputs": [
        {
          "output_type": "execute_result",
          "data": {
            "text/plain": [
              "'python'"
            ],
            "application/vnd.google.colaboratory.intrinsic+json": {
              "type": "string"
            }
          },
          "metadata": {},
          "execution_count": 11
        }
      ]
    },
    {
      "cell_type": "code",
      "source": [
        "skill=\"Python\"\n",
        "skill.replace(\"P\",\"J\")"
      ],
      "metadata": {
        "colab": {
          "base_uri": "https://localhost:8080/",
          "height": 35
        },
        "id": "eMtvW80-0TwZ",
        "outputId": "4acdca8e-d971-4e93-8c12-c3fe20b9e167"
      },
      "execution_count": null,
      "outputs": [
        {
          "output_type": "execute_result",
          "data": {
            "text/plain": [
              "'Jython'"
            ],
            "application/vnd.google.colaboratory.intrinsic+json": {
              "type": "string"
            }
          },
          "metadata": {},
          "execution_count": 14
        }
      ]
    },
    {
      "cell_type": "code",
      "source": [
        "job_title=\"data analyst\"  #rename data as doto\n",
        "job_title.replace(\"a\",\"o\",2)"
      ],
      "metadata": {
        "colab": {
          "base_uri": "https://localhost:8080/",
          "height": 35
        },
        "id": "7sAp993X5IT3",
        "outputId": "5c25ed5e-1530-4493-a721-e54e84e58e18"
      },
      "execution_count": null,
      "outputs": [
        {
          "output_type": "execute_result",
          "data": {
            "text/plain": [
              "'doto analyst'"
            ],
            "application/vnd.google.colaboratory.intrinsic+json": {
              "type": "string"
            }
          },
          "metadata": {},
          "execution_count": 19
        }
      ]
    },
    {
      "cell_type": "code",
      "source": [
        "job_title= job_title.replace(\"a\",\"o\",2)"
      ],
      "metadata": {
        "id": "FEz0eRZ27SsK"
      },
      "execution_count": null,
      "outputs": []
    },
    {
      "cell_type": "code",
      "source": [
        "job_title.split(sep= \" \", maxsplit=2) #splitting the string doto analyst"
      ],
      "metadata": {
        "colab": {
          "base_uri": "https://localhost:8080/"
        },
        "id": "FiehjX6G7i1x",
        "outputId": "e5537206-ab7a-4189-ccba-abfe4491cb1b"
      },
      "execution_count": null,
      "outputs": [
        {
          "output_type": "execute_result",
          "data": {
            "text/plain": [
              "['doto', 'onolyst']"
            ]
          },
          "metadata": {},
          "execution_count": 22
        }
      ]
    }
  ]
}